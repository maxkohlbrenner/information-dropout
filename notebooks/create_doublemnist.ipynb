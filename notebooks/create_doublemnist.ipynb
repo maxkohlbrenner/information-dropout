{
 "cells": [
  {
   "cell_type": "markdown",
   "metadata": {},
   "source": [
    "# Generate Double-Mnist Data\n",
    "a simple dataset in which each image contains an even and an odd mnist digit"
   ]
  },
  {
   "cell_type": "markdown",
   "metadata": {},
   "source": [
    "#### Load MNIST Data"
   ]
  },
  {
   "cell_type": "code",
   "execution_count": null,
   "metadata": {
    "collapsed": true
   },
   "outputs": [],
   "source": [
    "import numpy as np\n",
    "na = np.newaxis\n",
    "np.random.seed(7160)\n",
    "\n",
    "import matplotlib.pyplot as plt"
   ]
  },
  {
   "cell_type": "code",
   "execution_count": null,
   "metadata": {
    "collapsed": false
   },
   "outputs": [],
   "source": [
    "from keras.datasets import mnist\n",
    "(XTrain, YTrain), (XTest, YTest) = mnist.load_data()"
   ]
  },
  {
   "cell_type": "markdown",
   "metadata": {},
   "source": [
    "#### Helper Functions"
   ]
  },
  {
   "cell_type": "code",
   "execution_count": null,
   "metadata": {
    "collapsed": false
   },
   "outputs": [],
   "source": [
    "def crop_digit(digit):\n",
    "    \n",
    "    H, W = digit.shape\n",
    "    rowsumsnn = digit.sum(0) > 0\n",
    "    colsumsnn = digit.sum(1) > 0\n",
    "    hmin = np.argmax(colsumsnn)\n",
    "    hmax = H - np.argmax(colsumsnn[::-1])\n",
    "    wmin = np.argmax(rowsumsnn)\n",
    "    wmax = W - np.argmax(rowsumsnn[::-1])\n",
    "    \n",
    "    return digit[hmin:hmax, wmin:wmax]\n",
    "\n",
    "def crop_and_randomplace_digits(d1, d2, canvassize=(100,100), shuffle=True):\n",
    "    \n",
    "    if shuffle and np.random.randint(2):\n",
    "        # change which digit is placed first\n",
    "        d1, d2 = d2, d1\n",
    "        \n",
    "    canvas = np.zeros(canvassize)\n",
    "    d1c = crop_digit(d1)\n",
    "    d2c = crop_digit(d2)\n",
    "    d1pos = np.random.randint(0, canvas.shape[0] - d1c.shape[0]), np.random.randint(0, canvas.shape[1] - d1c.shape[1])\n",
    "\n",
    "    while True:\n",
    "        # position second digit randomly, if the two digits overlap sample a new position\n",
    "        d2pos = np.random.randint(0, canvas.shape[0] - d2c.shape[0]), np.random.randint(0, canvas.shape[1] - d2c.shape[1])\n",
    "        hoverlap = (d2pos[0] <= d1pos[0] and d1pos[0] < d2pos[0] + d2c.shape[0]) or (d1pos[0] <= d2pos[0] and d2pos[0] < d1pos[0] + d1c.shape[0])\n",
    "        woverlap = (d2pos[1] <= d1pos[1] and d1pos[1] < d2pos[1] + d2c.shape[1]) or (d1pos[1] <= d2pos[1] and d2pos[1] < d1pos[1] + d1c.shape[1])\n",
    "        overlap = hoverlap and woverlap \n",
    "        if not overlap:\n",
    "            break\n",
    "    \n",
    "    canvas[d1pos[0]:d1pos[0]+d1c.shape[0], d1pos[1]:d1pos[1]+d1c.shape[1]] = d1c\n",
    "    canvas[d2pos[0]:d2pos[0]+d2c.shape[0], d2pos[1]:d2pos[1]+d2c.shape[1]] = d2c\n",
    "    \n",
    "    return canvas\n",
    "\n",
    "def sample_oddeven_dataset(X, Y, shuffle=False, maxlength=None):\n",
    "    if maxlength is None:\n",
    "        maxlength = len(X)\n",
    "\n",
    "    # even and odd digits\n",
    "    evenodd = np.arange(10).reshape(5, 2).T\n",
    "    even, odd = evenodd\n",
    "\n",
    "    # boolean masks for even and odd digits\n",
    "    evenodd_masks = (np.sum(Y[:, na, na] == evenodd[na, ...], axis=2) > 0).T\n",
    "\n",
    "    if shuffle:\n",
    "        indices = np.random.permutation(Y.shape[0])\n",
    "    else:\n",
    "        indices = np.arange(Y.shape[0])\n",
    "\n",
    "    even_indices = indices[evenodd_masks[0]]\n",
    "    odd_indices  = indices[evenodd_masks[1]]\n",
    "\n",
    "    maxlength = np.min([len(even_indices), len(odd_indices), maxlength])\n",
    "\n",
    "    # generate the joint images\n",
    "    images = []\n",
    "    labels = []\n",
    "    for im_idx, (e_idx, o_idx) in enumerate(zip(even_indices[:maxlength], odd_indices[:maxlength])):\n",
    "        images.append(crop_and_randomplace_digits(X[e_idx], X[o_idx]))\n",
    "        labels.append([Y[e_idx], Y[o_idx]])\n",
    "        \n",
    "    return np.asarray(images), np.asarray(labels)"
   ]
  },
  {
   "cell_type": "markdown",
   "metadata": {},
   "source": [
    "#### Generate Dataset"
   ]
  },
  {
   "cell_type": "code",
   "execution_count": null,
   "metadata": {
    "collapsed": false
   },
   "outputs": [],
   "source": [
    "joint_X, joint_Y = sample_oddeven_dataset(XTrain, YTrain, True, 20)"
   ]
  },
  {
   "cell_type": "markdown",
   "metadata": {},
   "source": [
    "#### Qualitative Test"
   ]
  },
  {
   "cell_type": "code",
   "execution_count": null,
   "metadata": {
    "collapsed": false,
    "scrolled": false
   },
   "outputs": [],
   "source": [
    "for i in range(10):\n",
    "    plt.imshow(joint_X[i], cmap='gray')\n",
    "    plt.title(joint_Y[i])\n",
    "    plt.show()"
   ]
  }
 ],
 "metadata": {
  "kernelspec": {
   "display_name": "Python 3",
   "language": "python",
   "name": "python3"
  },
  "language_info": {
   "codemirror_mode": {
    "name": "ipython",
    "version": 3
   },
   "file_extension": ".py",
   "mimetype": "text/x-python",
   "name": "python",
   "nbconvert_exporter": "python",
   "pygments_lexer": "ipython3",
   "version": "3.5.2"
  }
 },
 "nbformat": 4,
 "nbformat_minor": 1
}
